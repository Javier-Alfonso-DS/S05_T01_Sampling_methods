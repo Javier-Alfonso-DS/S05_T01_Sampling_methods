{
  "cells": [
    {
      "cell_type": "markdown",
      "metadata": {
        "id": "GnQXMfEWS7Bg"
      },
      "source": [
        "# Sprint 5 Task 1\n",
        "> **Statement**\n",
        "\n",
        "Learn how to perform data mining with Python.\n",
        "Level 1\n",
        "- Exercise 1\n",
        "\n",
        "Get a set of sports-themed data that you like. Perform a data sampling generating a simple random sample and a systematic sample.\n",
        "\n",
        "> **Simple random sample:**\n",
        "In a simple random sample, every member of the population has an equal chance of being selected. Your sampling frame should include the whole population.\n",
        "To conduct this type of sampling, you can use tools like random number generators or other techniques that are based entirely on chance.\n",
        "\n",
        "> **Systematic sampling:**\n",
        "Systematic sampling is similar to simple random sampling, but it is usually slightly easier to conduct. Every member of the population is listed with a number, but instead of randomly generating numbers, individuals are chosen at regular intervals.\n",
        "\n",
        "Level 2\n",
        "\n",
        "- Exercise 2\n",
        "\n",
        "Continue with the set of sports-themed data and generate a stratified sample and a sample using SMOTE (Synthetic Minority Oversampling Technique).\n",
        "\n",
        "> **Stratified sampling:**\n",
        "Stratified sampling involves dividing the population into subpopulations that may differ in important ways. It allows you draw more precise conclusions by ensuring that every subgroup is properly represented in the sample.\n",
        "To use this sampling method, you divide the population into subgroups (called strata) based on the relevant characteristic (e.g. gender, age range, income bracket, job role).\n",
        "Based on the overall proportions of the population, you calculate how many people should be sampled from each subgroup. Then you use random or systematic sampling to select a sample from each subgroup.\n",
        "\n",
        "> **Oversampling using SMOTE:**\n",
        "In SMOTE (Synthetic Minority Oversampling Technique) we synthesize elements for the minority class, in the vicinity of already existing elements.\n",
        "\n",
        "Level 3\n",
        "\n",
        "- Exercise 3\n",
        "\n",
        "Continue with the set of sports data and generate a sample using the Reservoir sampling method.\n",
        "\n",
        "> **Reservoir Sampling:**\n",
        "In SMOTE (Synthetic Minority Oversampling Technique) we synthesize elements for the minority class, in the vicinity of already existing elements."
      ]
    },
    {
      "cell_type": "code",
      "execution_count": 97,
      "metadata": {
        "id": "MuF7vC489ymV"
      },
      "outputs": [],
      "source": [
        "# Import Libraries\n",
        "import numpy as np\n",
        "import pandas as pd"
      ]
    },
    {
      "cell_type": "code",
      "execution_count": 98,
      "metadata": {
        "id": "XR4QNuDx92Tk"
      },
      "outputs": [],
      "source": [
        "# Update Libraries first time\n",
        "# %pip install upgrade numpy\n",
        "# %pip install upgrade pandas"
      ]
    },
    {
      "cell_type": "code",
      "execution_count": 99,
      "metadata": {
        "id": "wFf38wuf96p0"
      },
      "outputs": [],
      "source": [
        "# Deactivate / Activate warnings\n",
        "import warnings\n",
        "# warnings.filterwarnings('ignore')\n",
        "warnings.filterwarnings(\"default\")"
      ]
    },
    {
      "cell_type": "markdown",
      "metadata": {
        "id": "iHYKwznv-FLF"
      },
      "source": [
        "## - Exercise 1\n",
        "\n",
        "Get a set of sports-themed data that you like. Perform a data sampling generating a simple random sample and a systematic sample.\n",
        "\n",
        "> **Simple random sample:**\n",
        "In a simple random sample, every member of the population has an equal chance of being selected. Your sampling frame should include the whole population.\n",
        "To conduct this type of sampling, you can use tools like random number generators or other techniques that are based entirely on chance.\n",
        "\n",
        "> **Systematic sampling:**\n",
        "Systematic sampling is similar to simple random sampling, but it is usually slightly easier to conduct. Every member of the population is listed with a number, but instead of randomly generating numbers, individuals are chosen at regular intervals.\n"
      ]
    },
    {
      "cell_type": "code",
      "execution_count": 100,
      "metadata": {
        "colab": {
          "base_uri": "https://localhost:8080/",
          "height": 779
        },
        "id": "G9_pkqI3-H4F",
        "outputId": "4e74b6f6-4a73-404c-b3d8-a5a7ccfd8007"
      },
      "outputs": [
        {
          "data": {
            "text/html": [
              "<div>\n",
              "<style scoped>\n",
              "    .dataframe tbody tr th:only-of-type {\n",
              "        vertical-align: middle;\n",
              "    }\n",
              "\n",
              "    .dataframe tbody tr th {\n",
              "        vertical-align: top;\n",
              "    }\n",
              "\n",
              "    .dataframe thead th {\n",
              "        text-align: right;\n",
              "    }\n",
              "</style>\n",
              "<table border=\"1\" class=\"dataframe\">\n",
              "  <thead>\n",
              "    <tr style=\"text-align: right;\">\n",
              "      <th></th>\n",
              "      <th>Text</th>\n",
              "      <th>Speaker</th>\n",
              "      <th>Episode</th>\n",
              "      <th>Season</th>\n",
              "      <th>Show</th>\n",
              "    </tr>\n",
              "  </thead>\n",
              "  <tbody>\n",
              "    <tr>\n",
              "      <th>0</th>\n",
              "      <td>[First scene opens with three Rangers riding t...</td>\n",
              "      <td>NaN</td>\n",
              "      <td>e1-Winter is Coming</td>\n",
              "      <td>season-01</td>\n",
              "      <td>Game-of-Thrones</td>\n",
              "    </tr>\n",
              "    <tr>\n",
              "      <th>1</th>\n",
              "      <td>What d’you expect? They’re savages. One lot s...</td>\n",
              "      <td>WAYMAR ROYCE</td>\n",
              "      <td>e1-Winter is Coming</td>\n",
              "      <td>season-01</td>\n",
              "      <td>Game-of-Thrones</td>\n",
              "    </tr>\n",
              "    <tr>\n",
              "      <th>2</th>\n",
              "      <td>I’ve never seen wildlings do a thing like thi...</td>\n",
              "      <td>WILL</td>\n",
              "      <td>e1-Winter is Coming</td>\n",
              "      <td>season-01</td>\n",
              "      <td>Game-of-Thrones</td>\n",
              "    </tr>\n",
              "    <tr>\n",
              "      <th>3</th>\n",
              "      <td>How close did you get?</td>\n",
              "      <td>WAYMAR ROYCE</td>\n",
              "      <td>e1-Winter is Coming</td>\n",
              "      <td>season-01</td>\n",
              "      <td>Game-of-Thrones</td>\n",
              "    </tr>\n",
              "    <tr>\n",
              "      <th>4</th>\n",
              "      <td>Close as any man would.</td>\n",
              "      <td>WILL</td>\n",
              "      <td>e1-Winter is Coming</td>\n",
              "      <td>season-01</td>\n",
              "      <td>Game-of-Thrones</td>\n",
              "    </tr>\n",
              "    <tr>\n",
              "      <th>...</th>\n",
              "      <td>...</td>\n",
              "      <td>...</td>\n",
              "      <td>...</td>\n",
              "      <td>...</td>\n",
              "      <td>...</td>\n",
              "    </tr>\n",
              "    <tr>\n",
              "      <th>33193</th>\n",
              "      <td>The Queen in the North! The Queen in the Nort...</td>\n",
              "      <td>ALL</td>\n",
              "      <td>e6</td>\n",
              "      <td>season-08</td>\n",
              "      <td>Game-of-Thrones</td>\n",
              "    </tr>\n",
              "    <tr>\n",
              "      <th>33194</th>\n",
              "      <td>ARYA's ship</td>\n",
              "      <td>CUT TO</td>\n",
              "      <td>e6</td>\n",
              "      <td>season-08</td>\n",
              "      <td>Game-of-Thrones</td>\n",
              "    </tr>\n",
              "    <tr>\n",
              "      <th>33195</th>\n",
              "      <td>ARYA stands at the prow and the ship sails awa...</td>\n",
              "      <td>NaN</td>\n",
              "      <td>e6</td>\n",
              "      <td>season-08</td>\n",
              "      <td>Game-of-Thrones</td>\n",
              "    </tr>\n",
              "    <tr>\n",
              "      <th>33196</th>\n",
              "      <td>Castle Black</td>\n",
              "      <td>CUT TO</td>\n",
              "      <td>e6</td>\n",
              "      <td>season-08</td>\n",
              "      <td>Game-of-Thrones</td>\n",
              "    </tr>\n",
              "    <tr>\n",
              "      <th>33197</th>\n",
              "      <td>JON rides through the tunnel, with TORMUND beh...</td>\n",
              "      <td>NaN</td>\n",
              "      <td>e6</td>\n",
              "      <td>season-08</td>\n",
              "      <td>Game-of-Thrones</td>\n",
              "    </tr>\n",
              "  </tbody>\n",
              "</table>\n",
              "<p>33198 rows × 5 columns</p>\n",
              "</div>"
            ],
            "text/plain": [
              "                                                    Text       Speaker  \\\n",
              "0      [First scene opens with three Rangers riding t...           NaN   \n",
              "1       What d’you expect? They’re savages. One lot s...  WAYMAR ROYCE   \n",
              "2       I’ve never seen wildlings do a thing like thi...          WILL   \n",
              "3                                 How close did you get?  WAYMAR ROYCE   \n",
              "4                                Close as any man would.          WILL   \n",
              "...                                                  ...           ...   \n",
              "33193   The Queen in the North! The Queen in the Nort...           ALL   \n",
              "33194                                        ARYA's ship        CUT TO   \n",
              "33195  ARYA stands at the prow and the ship sails awa...           NaN   \n",
              "33196                                       Castle Black        CUT TO   \n",
              "33197  JON rides through the tunnel, with TORMUND beh...           NaN   \n",
              "\n",
              "                   Episode     Season             Show  \n",
              "0      e1-Winter is Coming  season-01  Game-of-Thrones  \n",
              "1      e1-Winter is Coming  season-01  Game-of-Thrones  \n",
              "2      e1-Winter is Coming  season-01  Game-of-Thrones  \n",
              "3      e1-Winter is Coming  season-01  Game-of-Thrones  \n",
              "4      e1-Winter is Coming  season-01  Game-of-Thrones  \n",
              "...                    ...        ...              ...  \n",
              "33193                   e6  season-08  Game-of-Thrones  \n",
              "33194                   e6  season-08  Game-of-Thrones  \n",
              "33195                   e6  season-08  Game-of-Thrones  \n",
              "33196                   e6  season-08  Game-of-Thrones  \n",
              "33197                   e6  season-08  Game-of-Thrones  \n",
              "\n",
              "[33198 rows x 5 columns]"
            ]
          },
          "execution_count": 100,
          "metadata": {},
          "output_type": "execute_result"
        }
      ],
      "source": [
        "df = pd.read_csv('./game-of-thrones.csv')\n",
        "df"
      ]
    },
    {
      "cell_type": "code",
      "execution_count": 101,
      "metadata": {},
      "outputs": [
        {
          "data": {
            "text/html": [
              "<div>\n",
              "<style scoped>\n",
              "    .dataframe tbody tr th:only-of-type {\n",
              "        vertical-align: middle;\n",
              "    }\n",
              "\n",
              "    .dataframe tbody tr th {\n",
              "        vertical-align: top;\n",
              "    }\n",
              "\n",
              "    .dataframe thead th {\n",
              "        text-align: right;\n",
              "    }\n",
              "</style>\n",
              "<table border=\"1\" class=\"dataframe\">\n",
              "  <thead>\n",
              "    <tr style=\"text-align: right;\">\n",
              "      <th></th>\n",
              "      <th>Text</th>\n",
              "      <th>Speaker</th>\n",
              "      <th>Episode</th>\n",
              "      <th>Season</th>\n",
              "      <th>Show</th>\n",
              "    </tr>\n",
              "  </thead>\n",
              "  <tbody>\n",
              "    <tr>\n",
              "      <th>count</th>\n",
              "      <td>33198</td>\n",
              "      <td>24842</td>\n",
              "      <td>33198</td>\n",
              "      <td>33198</td>\n",
              "      <td>33198</td>\n",
              "    </tr>\n",
              "    <tr>\n",
              "      <th>unique</th>\n",
              "      <td>31044</td>\n",
              "      <td>957</td>\n",
              "      <td>50</td>\n",
              "      <td>8</td>\n",
              "      <td>1</td>\n",
              "    </tr>\n",
              "    <tr>\n",
              "      <th>top</th>\n",
              "      <td>No.</td>\n",
              "      <td>TYRION</td>\n",
              "      <td>e4</td>\n",
              "      <td>season-02</td>\n",
              "      <td>Game-of-Thrones</td>\n",
              "    </tr>\n",
              "    <tr>\n",
              "      <th>freq</th>\n",
              "      <td>103</td>\n",
              "      <td>1543</td>\n",
              "      <td>2005</td>\n",
              "      <td>5357</td>\n",
              "      <td>33198</td>\n",
              "    </tr>\n",
              "  </tbody>\n",
              "</table>\n",
              "</div>"
            ],
            "text/plain": [
              "         Text Speaker Episode     Season             Show\n",
              "count   33198   24842   33198      33198            33198\n",
              "unique  31044     957      50          8                1\n",
              "top       No.  TYRION      e4  season-02  Game-of-Thrones\n",
              "freq      103    1543    2005       5357            33198"
            ]
          },
          "execution_count": 101,
          "metadata": {},
          "output_type": "execute_result"
        }
      ],
      "source": [
        "# Let's explore this dataset\n",
        "round(df.describe(include=\"all\"),1)"
      ]
    },
    {
      "cell_type": "code",
      "execution_count": 102,
      "metadata": {
        "colab": {
          "base_uri": "https://localhost:8080/",
          "height": 519
        },
        "id": "UeUL9oi2-XDG",
        "outputId": "dcbcb0e1-0269-4507-e299-063de9331779"
      },
      "outputs": [
        {
          "data": {
            "text/html": [
              "<div>\n",
              "<style scoped>\n",
              "    .dataframe tbody tr th:only-of-type {\n",
              "        vertical-align: middle;\n",
              "    }\n",
              "\n",
              "    .dataframe tbody tr th {\n",
              "        vertical-align: top;\n",
              "    }\n",
              "\n",
              "    .dataframe thead th {\n",
              "        text-align: right;\n",
              "    }\n",
              "</style>\n",
              "<table border=\"1\" class=\"dataframe\">\n",
              "  <thead>\n",
              "    <tr style=\"text-align: right;\">\n",
              "      <th></th>\n",
              "      <th>Text</th>\n",
              "      <th>Speaker</th>\n",
              "      <th>Episode</th>\n",
              "      <th>Season</th>\n",
              "      <th>Show</th>\n",
              "    </tr>\n",
              "  </thead>\n",
              "  <tbody>\n",
              "    <tr>\n",
              "      <th>21239</th>\n",
              "      <td>(Smiles). Lord Bolton.</td>\n",
              "      <td>SANSA</td>\n",
              "      <td>e3</td>\n",
              "      <td>season-05</td>\n",
              "      <td>Game-of-Thrones</td>\n",
              "    </tr>\n",
              "    <tr>\n",
              "      <th>13383</th>\n",
              "      <td>Karhold!</td>\n",
              "      <td>THEON</td>\n",
              "      <td>e6-The Climb</td>\n",
              "      <td>season-03</td>\n",
              "      <td>Game-of-Thrones</td>\n",
              "    </tr>\n",
              "    <tr>\n",
              "      <th>21198</th>\n",
              "      <td>I'm the sword in the darkness, the watcher on...</td>\n",
              "      <td>OLLY</td>\n",
              "      <td>e3</td>\n",
              "      <td>season-05</td>\n",
              "      <td>Game-of-Thrones</td>\n",
              "    </tr>\n",
              "    <tr>\n",
              "      <th>25704</th>\n",
              "      <td>I needed fresh air. The old women stink.</td>\n",
              "      <td>DAENERYS</td>\n",
              "      <td>e4</td>\n",
              "      <td>season-06</td>\n",
              "      <td>Game-of-Thrones</td>\n",
              "    </tr>\n",
              "    <tr>\n",
              "      <th>6923</th>\n",
              "      <td>ARYA sits, expressionless, trying not to be no...</td>\n",
              "      <td>NaN</td>\n",
              "      <td>e4-Garden of Bones</td>\n",
              "      <td>season-02</td>\n",
              "      <td>Game-of-Thrones</td>\n",
              "    </tr>\n",
              "  </tbody>\n",
              "</table>\n",
              "</div>"
            ],
            "text/plain": [
              "                                                    Text   Speaker  \\\n",
              "21239                             (Smiles). Lord Bolton.     SANSA   \n",
              "13383                                           Karhold!     THEON   \n",
              "21198   I'm the sword in the darkness, the watcher on...      OLLY   \n",
              "25704           I needed fresh air. The old women stink.  DAENERYS   \n",
              "6923   ARYA sits, expressionless, trying not to be no...       NaN   \n",
              "\n",
              "                  Episode     Season             Show  \n",
              "21239                  e3  season-05  Game-of-Thrones  \n",
              "13383        e6-The Climb  season-03  Game-of-Thrones  \n",
              "21198                  e3  season-05  Game-of-Thrones  \n",
              "25704                  e4  season-06  Game-of-Thrones  \n",
              "6923   e4-Garden of Bones  season-02  Game-of-Thrones  "
            ]
          },
          "execution_count": 102,
          "metadata": {},
          "output_type": "execute_result"
        }
      ],
      "source": [
        "# Simple random sample:\n",
        "SampleRandom = df.sample(5,random_state=1)\n",
        "SampleRandom"
      ]
    },
    {
      "cell_type": "code",
      "execution_count": 103,
      "metadata": {
        "colab": {
          "base_uri": "https://localhost:8080/",
          "height": 519
        },
        "id": "Kt41pT2AAKfo",
        "outputId": "3252ff2e-4bdf-4321-b84a-fc7523e8b1bf"
      },
      "outputs": [
        {
          "data": {
            "text/html": [
              "<div>\n",
              "<style scoped>\n",
              "    .dataframe tbody tr th:only-of-type {\n",
              "        vertical-align: middle;\n",
              "    }\n",
              "\n",
              "    .dataframe tbody tr th {\n",
              "        vertical-align: top;\n",
              "    }\n",
              "\n",
              "    .dataframe thead th {\n",
              "        text-align: right;\n",
              "    }\n",
              "</style>\n",
              "<table border=\"1\" class=\"dataframe\">\n",
              "  <thead>\n",
              "    <tr style=\"text-align: right;\">\n",
              "      <th></th>\n",
              "      <th>Text</th>\n",
              "      <th>Speaker</th>\n",
              "      <th>Episode</th>\n",
              "      <th>Season</th>\n",
              "      <th>Show</th>\n",
              "    </tr>\n",
              "  </thead>\n",
              "  <tbody>\n",
              "    <tr>\n",
              "      <th>0</th>\n",
              "      <td>[First scene opens with three Rangers riding t...</td>\n",
              "      <td>NaN</td>\n",
              "      <td>e1-Winter is Coming</td>\n",
              "      <td>season-01</td>\n",
              "      <td>Game-of-Thrones</td>\n",
              "    </tr>\n",
              "    <tr>\n",
              "      <th>100</th>\n",
              "      <td>You will train them yourselves. You will feed...</td>\n",
              "      <td>NED</td>\n",
              "      <td>e1-Winter is Coming</td>\n",
              "      <td>season-01</td>\n",
              "      <td>Game-of-Thrones</td>\n",
              "    </tr>\n",
              "    <tr>\n",
              "      <th>200</th>\n",
              "      <td>The queen has two brothers?</td>\n",
              "      <td>ROS</td>\n",
              "      <td>e1-Winter is Coming</td>\n",
              "      <td>season-01</td>\n",
              "      <td>Game-of-Thrones</td>\n",
              "    </tr>\n",
              "    <tr>\n",
              "      <th>300</th>\n",
              "      <td>And Lady Stark is not your mother. Making you...</td>\n",
              "      <td>TYRION</td>\n",
              "      <td>e1-Winter is Coming</td>\n",
              "      <td>season-01</td>\n",
              "      <td>Game-of-Thrones</td>\n",
              "    </tr>\n",
              "    <tr>\n",
              "      <th>400</th>\n",
              "      <td>[The scene shifts to Winterfell. Tyrion and th...</td>\n",
              "      <td>NaN</td>\n",
              "      <td>e1-Winter is Coming</td>\n",
              "      <td>season-01</td>\n",
              "      <td>Game-of-Thrones</td>\n",
              "    </tr>\n",
              "    <tr>\n",
              "      <th>...</th>\n",
              "      <td>...</td>\n",
              "      <td>...</td>\n",
              "      <td>...</td>\n",
              "      <td>...</td>\n",
              "      <td>...</td>\n",
              "    </tr>\n",
              "    <tr>\n",
              "      <th>32700</th>\n",
              "      <td>They took Missandei.</td>\n",
              "      <td>DAENERYS</td>\n",
              "      <td>e4</td>\n",
              "      <td>season-08</td>\n",
              "      <td>Game-of-Thrones</td>\n",
              "    </tr>\n",
              "    <tr>\n",
              "      <th>32800</th>\n",
              "      <td>TYRION walks forward, alone. He turns a corner...</td>\n",
              "      <td>NaN</td>\n",
              "      <td>e6</td>\n",
              "      <td>season-08</td>\n",
              "      <td>Game-of-Thrones</td>\n",
              "    </tr>\n",
              "    <tr>\n",
              "      <th>32900</th>\n",
              "      <td>What?</td>\n",
              "      <td>JON</td>\n",
              "      <td>e6</td>\n",
              "      <td>season-08</td>\n",
              "      <td>Game-of-Thrones</td>\n",
              "    </tr>\n",
              "    <tr>\n",
              "      <th>33000</th>\n",
              "      <td>SAM stands.</td>\n",
              "      <td>NaN</td>\n",
              "      <td>e6</td>\n",
              "      <td>season-08</td>\n",
              "      <td>Game-of-Thrones</td>\n",
              "    </tr>\n",
              "    <tr>\n",
              "      <th>33100</th>\n",
              "      <td>TYRION enters first, and looks at the chair in...</td>\n",
              "      <td>NaN</td>\n",
              "      <td>e6</td>\n",
              "      <td>season-08</td>\n",
              "      <td>Game-of-Thrones</td>\n",
              "    </tr>\n",
              "  </tbody>\n",
              "</table>\n",
              "<p>332 rows × 5 columns</p>\n",
              "</div>"
            ],
            "text/plain": [
              "                                                    Text   Speaker  \\\n",
              "0      [First scene opens with three Rangers riding t...       NaN   \n",
              "100     You will train them yourselves. You will feed...       NED   \n",
              "200                          The queen has two brothers?       ROS   \n",
              "300     And Lady Stark is not your mother. Making you...    TYRION   \n",
              "400    [The scene shifts to Winterfell. Tyrion and th...       NaN   \n",
              "...                                                  ...       ...   \n",
              "32700                               They took Missandei.  DAENERYS   \n",
              "32800  TYRION walks forward, alone. He turns a corner...       NaN   \n",
              "32900                                              What?       JON   \n",
              "33000                                        SAM stands.       NaN   \n",
              "33100  TYRION enters first, and looks at the chair in...       NaN   \n",
              "\n",
              "                   Episode     Season             Show  \n",
              "0      e1-Winter is Coming  season-01  Game-of-Thrones  \n",
              "100    e1-Winter is Coming  season-01  Game-of-Thrones  \n",
              "200    e1-Winter is Coming  season-01  Game-of-Thrones  \n",
              "300    e1-Winter is Coming  season-01  Game-of-Thrones  \n",
              "400    e1-Winter is Coming  season-01  Game-of-Thrones  \n",
              "...                    ...        ...              ...  \n",
              "32700                   e4  season-08  Game-of-Thrones  \n",
              "32800                   e6  season-08  Game-of-Thrones  \n",
              "32900                   e6  season-08  Game-of-Thrones  \n",
              "33000                   e6  season-08  Game-of-Thrones  \n",
              "33100                   e6  season-08  Game-of-Thrones  \n",
              "\n",
              "[332 rows x 5 columns]"
            ]
          },
          "execution_count": 103,
          "metadata": {},
          "output_type": "execute_result"
        }
      ],
      "source": [
        "# Systematic sampling:\n",
        "def systematic_sampling(df, step):\n",
        "    \n",
        "    indexes = np.arange(0,len(df),step=step)\n",
        "    systematic_sample = df.iloc[indexes]\n",
        "    return systematic_sample\n",
        "    \n",
        "SampleSystematic = systematic_sampling(df, 100)\n",
        "SampleSystematic"
      ]
    },
    {
      "cell_type": "code",
      "execution_count": 104,
      "metadata": {},
      "outputs": [
        {
          "data": {
            "text/html": [
              "<div>\n",
              "<style scoped>\n",
              "    .dataframe tbody tr th:only-of-type {\n",
              "        vertical-align: middle;\n",
              "    }\n",
              "\n",
              "    .dataframe tbody tr th {\n",
              "        vertical-align: top;\n",
              "    }\n",
              "\n",
              "    .dataframe thead th {\n",
              "        text-align: right;\n",
              "    }\n",
              "</style>\n",
              "<table border=\"1\" class=\"dataframe\">\n",
              "  <thead>\n",
              "    <tr style=\"text-align: right;\">\n",
              "      <th></th>\n",
              "      <th>Text</th>\n",
              "      <th>Speaker</th>\n",
              "      <th>Episode</th>\n",
              "      <th>Season</th>\n",
              "      <th>Show</th>\n",
              "    </tr>\n",
              "  </thead>\n",
              "  <tbody>\n",
              "    <tr>\n",
              "      <th>count</th>\n",
              "      <td>332</td>\n",
              "      <td>246</td>\n",
              "      <td>332</td>\n",
              "      <td>332</td>\n",
              "      <td>332</td>\n",
              "    </tr>\n",
              "    <tr>\n",
              "      <th>unique</th>\n",
              "      <td>331</td>\n",
              "      <td>125</td>\n",
              "      <td>50</td>\n",
              "      <td>8</td>\n",
              "      <td>1</td>\n",
              "    </tr>\n",
              "    <tr>\n",
              "      <th>top</th>\n",
              "      <td>No.</td>\n",
              "      <td>TYRION</td>\n",
              "      <td>e2</td>\n",
              "      <td>season-02</td>\n",
              "      <td>Game-of-Thrones</td>\n",
              "    </tr>\n",
              "    <tr>\n",
              "      <th>freq</th>\n",
              "      <td>2</td>\n",
              "      <td>20</td>\n",
              "      <td>20</td>\n",
              "      <td>54</td>\n",
              "      <td>332</td>\n",
              "    </tr>\n",
              "  </tbody>\n",
              "</table>\n",
              "</div>"
            ],
            "text/plain": [
              "        Text Speaker Episode     Season             Show\n",
              "count    332     246     332        332              332\n",
              "unique   331     125      50          8                1\n",
              "top      No.  TYRION      e2  season-02  Game-of-Thrones\n",
              "freq       2      20      20         54              332"
            ]
          },
          "execution_count": 104,
          "metadata": {},
          "output_type": "execute_result"
        }
      ],
      "source": [
        "# Let's explore a little bit this sample\n",
        "SampleSystematic.describe()"
      ]
    },
    {
      "cell_type": "markdown",
      "metadata": {
        "id": "4JJVvwvJDTtS"
      },
      "source": [
        "## Exercise 2\n",
        "Continue with the set of sports-themed data and generate a stratified sample and a sample using SMOTE (Synthetic Minority Oversampling Technique)."
      ]
    },
    {
      "cell_type": "markdown",
      "metadata": {},
      "source": [
        "######  \n",
        "---------\n",
        "*Note: We keep the following code as example of stratification done with the WorldCups.csv, but discarded as it was a dataset too small.*"
      ]
    },
    {
      "cell_type": "code",
      "execution_count": 105,
      "metadata": {},
      "outputs": [],
      "source": [
        "\n",
        "# OLD CODE - LEFT only for INFORMATION\n",
        "# Let's stratify by subpopulations of winner's continent (Europe or America)\n",
        "# df.Winner.unique()\n",
        "\n",
        "# def continent(country):\n",
        "#   EuropeanCountries = ('Italy', 'Germany FR','England','France', 'Spain', 'Germany')\n",
        "#   AmericanCountries = ('Uruguay', 'Brazil', 'Argentina')\n",
        "#   if country in EuropeanCountries: return \"Europe\"\n",
        "#   elif country in AmericanCountries: return \"America\"\n",
        "#   else: return \"NaN\"\n",
        "\n",
        "# df['Continent'] = df.Winner.apply(continent)\n",
        "# df.Continent.value_counts()\n",
        "\n",
        "# Now that we have the stratification (Continent), we just have to choose a random sampling of each continent, \n",
        "# based on the overall proportions of the population. (11/9)\n",
        "\n",
        "# The problem that we found is that our dataset is too small and the number of European Countries are 11, a prime number.\n",
        "# Let's choose a bigger dataset"
      ]
    },
    {
      "cell_type": "code",
      "execution_count": 106,
      "metadata": {},
      "outputs": [
        {
          "data": {
            "text/plain": [
              "count         33198\n",
              "unique            8\n",
              "top       season-02\n",
              "freq           5357\n",
              "Name: Season, dtype: object"
            ]
          },
          "execution_count": 106,
          "metadata": {},
          "output_type": "execute_result"
        }
      ],
      "source": [
        "df.Season.describe()"
      ]
    },
    {
      "cell_type": "markdown",
      "metadata": {},
      "source": [
        "### >Stratified sampling:\n",
        "------\n",
        ">**Stratified sampling**: Stratified sampling involves dividing the population into subpopulations that may differ in important ways. It allows you draw more precise conclusions by ensuring that every subgroup is properly represented in the sample. To use this sampling method, you divide the population into subgroups (called strata) based on the relevant characteristic (e.g. gender, age range, income bracket, job role). Based on the overall proportions of the population, you calculate how many people should be sampled from each subgroup. Then you use random or systematic sampling to select a sample from each subgroup."
      ]
    },
    {
      "cell_type": "code",
      "execution_count": 107,
      "metadata": {},
      "outputs": [
        {
          "data": {
            "text/html": [
              "<div>\n",
              "<style scoped>\n",
              "    .dataframe tbody tr th:only-of-type {\n",
              "        vertical-align: middle;\n",
              "    }\n",
              "\n",
              "    .dataframe tbody tr th {\n",
              "        vertical-align: top;\n",
              "    }\n",
              "\n",
              "    .dataframe thead th {\n",
              "        text-align: right;\n",
              "    }\n",
              "</style>\n",
              "<table border=\"1\" class=\"dataframe\">\n",
              "  <thead>\n",
              "    <tr style=\"text-align: right;\">\n",
              "      <th></th>\n",
              "      <th>Season</th>\n",
              "    </tr>\n",
              "  </thead>\n",
              "  <tbody>\n",
              "    <tr>\n",
              "      <th>season-01</th>\n",
              "      <td>4479</td>\n",
              "    </tr>\n",
              "    <tr>\n",
              "      <th>season-02</th>\n",
              "      <td>5357</td>\n",
              "    </tr>\n",
              "    <tr>\n",
              "      <th>season-03</th>\n",
              "      <td>5295</td>\n",
              "    </tr>\n",
              "    <tr>\n",
              "      <th>season-04</th>\n",
              "      <td>4606</td>\n",
              "    </tr>\n",
              "    <tr>\n",
              "      <th>season-05</th>\n",
              "      <td>4145</td>\n",
              "    </tr>\n",
              "    <tr>\n",
              "      <th>season-06</th>\n",
              "      <td>4064</td>\n",
              "    </tr>\n",
              "    <tr>\n",
              "      <th>season-07</th>\n",
              "      <td>3085</td>\n",
              "    </tr>\n",
              "    <tr>\n",
              "      <th>season-08</th>\n",
              "      <td>2167</td>\n",
              "    </tr>\n",
              "  </tbody>\n",
              "</table>\n",
              "</div>"
            ],
            "text/plain": [
              "           Season\n",
              "season-01    4479\n",
              "season-02    5357\n",
              "season-03    5295\n",
              "season-04    4606\n",
              "season-05    4145\n",
              "season-06    4064\n",
              "season-07    3085\n",
              "season-08    2167"
            ]
          },
          "execution_count": 107,
          "metadata": {},
          "output_type": "execute_result"
        }
      ],
      "source": [
        "# Let's stratify by Season (season-01 to season-08)\n",
        "SeasonCounts = pd.DataFrame(df.Season.value_counts()).sort_index(axis=0) \n",
        "SeasonCounts"
      ]
    },
    {
      "cell_type": "code",
      "execution_count": 108,
      "metadata": {},
      "outputs": [
        {
          "data": {
            "text/plain": [
              "33198"
            ]
          },
          "execution_count": 108,
          "metadata": {},
          "output_type": "execute_result"
        }
      ],
      "source": [
        "DfCounts = df.Season.count()\n",
        "DfCounts"
      ]
    },
    {
      "cell_type": "code",
      "execution_count": 109,
      "metadata": {},
      "outputs": [],
      "source": [
        "SeasonCounts['Proportion']=SeasonCounts['Season'] / DfCounts"
      ]
    },
    {
      "cell_type": "code",
      "execution_count": 110,
      "metadata": {},
      "outputs": [
        {
          "data": {
            "text/html": [
              "<div>\n",
              "<style scoped>\n",
              "    .dataframe tbody tr th:only-of-type {\n",
              "        vertical-align: middle;\n",
              "    }\n",
              "\n",
              "    .dataframe tbody tr th {\n",
              "        vertical-align: top;\n",
              "    }\n",
              "\n",
              "    .dataframe thead th {\n",
              "        text-align: right;\n",
              "    }\n",
              "</style>\n",
              "<table border=\"1\" class=\"dataframe\">\n",
              "  <thead>\n",
              "    <tr style=\"text-align: right;\">\n",
              "      <th></th>\n",
              "      <th>Season</th>\n",
              "      <th>Proportion</th>\n",
              "    </tr>\n",
              "  </thead>\n",
              "  <tbody>\n",
              "    <tr>\n",
              "      <th>season-01</th>\n",
              "      <td>4479</td>\n",
              "      <td>0.134918</td>\n",
              "    </tr>\n",
              "    <tr>\n",
              "      <th>season-02</th>\n",
              "      <td>5357</td>\n",
              "      <td>0.161365</td>\n",
              "    </tr>\n",
              "    <tr>\n",
              "      <th>season-03</th>\n",
              "      <td>5295</td>\n",
              "      <td>0.159498</td>\n",
              "    </tr>\n",
              "    <tr>\n",
              "      <th>season-04</th>\n",
              "      <td>4606</td>\n",
              "      <td>0.138743</td>\n",
              "    </tr>\n",
              "    <tr>\n",
              "      <th>season-05</th>\n",
              "      <td>4145</td>\n",
              "      <td>0.124857</td>\n",
              "    </tr>\n",
              "    <tr>\n",
              "      <th>season-06</th>\n",
              "      <td>4064</td>\n",
              "      <td>0.122417</td>\n",
              "    </tr>\n",
              "    <tr>\n",
              "      <th>season-07</th>\n",
              "      <td>3085</td>\n",
              "      <td>0.092927</td>\n",
              "    </tr>\n",
              "    <tr>\n",
              "      <th>season-08</th>\n",
              "      <td>2167</td>\n",
              "      <td>0.065275</td>\n",
              "    </tr>\n",
              "  </tbody>\n",
              "</table>\n",
              "</div>"
            ],
            "text/plain": [
              "           Season  Proportion\n",
              "season-01    4479    0.134918\n",
              "season-02    5357    0.161365\n",
              "season-03    5295    0.159498\n",
              "season-04    4606    0.138743\n",
              "season-05    4145    0.124857\n",
              "season-06    4064    0.122417\n",
              "season-07    3085    0.092927\n",
              "season-08    2167    0.065275"
            ]
          },
          "execution_count": 110,
          "metadata": {},
          "output_type": "execute_result"
        }
      ],
      "source": [
        "# So, we have the total count of registers in season column (33198) and each count of every season.\n",
        "# Now we can design the sample taking the proportional amount of samples from each season.\n",
        "SeasonCounts['Proportion'] = SeasonCounts.Season / DfCounts\n",
        "SeasonCounts\n"
      ]
    },
    {
      "cell_type": "code",
      "execution_count": 111,
      "metadata": {
        "colab": {
          "base_uri": "https://localhost:8080/",
          "height": 321
        },
        "id": "pJMQCm-8ELeM",
        "outputId": "21763b19-bbd3-456b-d3b9-d5cc58c4f991"
      },
      "outputs": [
        {
          "data": {
            "text/plain": [
              "332.0"
            ]
          },
          "execution_count": 111,
          "metadata": {},
          "output_type": "execute_result"
        }
      ],
      "source": [
        "# Let's choose now a sample of 332 as the SampleSystematic but stratified.\n",
        "SeasonCounts['Samples'] = round(SeasonCounts.Proportion *331)\n",
        "SeasonCounts.Samples.sum()\n"
      ]
    },
    {
      "cell_type": "code",
      "execution_count": 112,
      "metadata": {
        "id": "j7ddcDGXPfmy"
      },
      "outputs": [
        {
          "data": {
            "text/html": [
              "<div>\n",
              "<style scoped>\n",
              "    .dataframe tbody tr th:only-of-type {\n",
              "        vertical-align: middle;\n",
              "    }\n",
              "\n",
              "    .dataframe tbody tr th {\n",
              "        vertical-align: top;\n",
              "    }\n",
              "\n",
              "    .dataframe thead th {\n",
              "        text-align: right;\n",
              "    }\n",
              "</style>\n",
              "<table border=\"1\" class=\"dataframe\">\n",
              "  <thead>\n",
              "    <tr style=\"text-align: right;\">\n",
              "      <th></th>\n",
              "      <th>index</th>\n",
              "      <th>Season</th>\n",
              "      <th>Proportion</th>\n",
              "      <th>Samples</th>\n",
              "    </tr>\n",
              "  </thead>\n",
              "  <tbody>\n",
              "    <tr>\n",
              "      <th>0</th>\n",
              "      <td>season-01</td>\n",
              "      <td>4479</td>\n",
              "      <td>0.134918</td>\n",
              "      <td>45.0</td>\n",
              "    </tr>\n",
              "    <tr>\n",
              "      <th>1</th>\n",
              "      <td>season-02</td>\n",
              "      <td>5357</td>\n",
              "      <td>0.161365</td>\n",
              "      <td>53.0</td>\n",
              "    </tr>\n",
              "    <tr>\n",
              "      <th>2</th>\n",
              "      <td>season-03</td>\n",
              "      <td>5295</td>\n",
              "      <td>0.159498</td>\n",
              "      <td>53.0</td>\n",
              "    </tr>\n",
              "    <tr>\n",
              "      <th>3</th>\n",
              "      <td>season-04</td>\n",
              "      <td>4606</td>\n",
              "      <td>0.138743</td>\n",
              "      <td>46.0</td>\n",
              "    </tr>\n",
              "    <tr>\n",
              "      <th>4</th>\n",
              "      <td>season-05</td>\n",
              "      <td>4145</td>\n",
              "      <td>0.124857</td>\n",
              "      <td>41.0</td>\n",
              "    </tr>\n",
              "    <tr>\n",
              "      <th>5</th>\n",
              "      <td>season-06</td>\n",
              "      <td>4064</td>\n",
              "      <td>0.122417</td>\n",
              "      <td>41.0</td>\n",
              "    </tr>\n",
              "    <tr>\n",
              "      <th>6</th>\n",
              "      <td>season-07</td>\n",
              "      <td>3085</td>\n",
              "      <td>0.092927</td>\n",
              "      <td>31.0</td>\n",
              "    </tr>\n",
              "    <tr>\n",
              "      <th>7</th>\n",
              "      <td>season-08</td>\n",
              "      <td>2167</td>\n",
              "      <td>0.065275</td>\n",
              "      <td>22.0</td>\n",
              "    </tr>\n",
              "  </tbody>\n",
              "</table>\n",
              "</div>"
            ],
            "text/plain": [
              "       index  Season  Proportion  Samples\n",
              "0  season-01    4479    0.134918     45.0\n",
              "1  season-02    5357    0.161365     53.0\n",
              "2  season-03    5295    0.159498     53.0\n",
              "3  season-04    4606    0.138743     46.0\n",
              "4  season-05    4145    0.124857     41.0\n",
              "5  season-06    4064    0.122417     41.0\n",
              "6  season-07    3085    0.092927     31.0\n",
              "7  season-08    2167    0.065275     22.0"
            ]
          },
          "execution_count": 112,
          "metadata": {},
          "output_type": "execute_result"
        }
      ],
      "source": [
        "SeasonCounts.reset_index()"
      ]
    },
    {
      "cell_type": "code",
      "execution_count": 113,
      "metadata": {},
      "outputs": [
        {
          "data": {
            "text/plain": [
              "array(['season-01', 'season-02', 'season-03', 'season-04', 'season-05',\n",
              "       'season-06', 'season-07', 'season-08'], dtype=object)"
            ]
          },
          "execution_count": 113,
          "metadata": {},
          "output_type": "execute_result"
        }
      ],
      "source": [
        "SeasonArray=SeasonCounts.index.values\n",
        "SeasonArray"
      ]
    },
    {
      "cell_type": "code",
      "execution_count": 114,
      "metadata": {},
      "outputs": [
        {
          "data": {
            "text/plain": [
              "Text       45\n",
              "Speaker    35\n",
              "Episode    45\n",
              "Season     45\n",
              "Show       45\n",
              "dtype: int64"
            ]
          },
          "execution_count": 114,
          "metadata": {},
          "output_type": "execute_result"
        }
      ],
      "source": [
        "# Now we will take a random sample of each season with the number of samples calculated in SeasonCounts\n",
        "\n",
        "# First Season\n",
        "NumSamples = int(SeasonCounts.at['season-01','Samples'])\n",
        "SampleStratified = df[df.Season =='season-01'].sample(NumSamples,random_state=1) \n",
        "SampleStratified.count()\n"
      ]
    },
    {
      "cell_type": "code",
      "execution_count": 115,
      "metadata": {},
      "outputs": [],
      "source": [
        "# Rest of Seasons\n",
        "for x in range(1,8):\n",
        "    Season = SeasonArray[x]\n",
        "    NumSamples = int(SeasonCounts.at[Season,'Samples'])\n",
        "    SampleStratified = SampleStratified.append(df[df.Season == Season].sample(NumSamples,random_state=1))\n",
        "      "
      ]
    },
    {
      "cell_type": "code",
      "execution_count": 116,
      "metadata": {},
      "outputs": [
        {
          "data": {
            "text/plain": [
              "Text       332\n",
              "Speaker    256\n",
              "Episode    332\n",
              "Season     332\n",
              "Show       332\n",
              "dtype: int64"
            ]
          },
          "execution_count": 116,
          "metadata": {},
          "output_type": "execute_result"
        }
      ],
      "source": [
        "SampleStratified.count()"
      ]
    },
    {
      "cell_type": "code",
      "execution_count": 117,
      "metadata": {},
      "outputs": [],
      "source": [
        "# Ok, we have our stratified sample. Let's do now Oversampling using SMOTE"
      ]
    },
    {
      "cell_type": "markdown",
      "metadata": {},
      "source": [
        "### >SMOTE:\n",
        "------- \n",
        ">**Oversampling using SMOTE**: In SMOTE (Synthetic Minority Oversampling Technique) we synthesize elements for the minority class, in the vicinity of already existing elements.\n",
        "-------\n",
        "What is SMOTE?\n",
        "SMOTE or Synthetic Minority Oversampling Technique is an oversampling technique but SMOTE working differently than your typical oversampling.\n",
        "In a classic oversampling technique, the minority data is duplicated from the minority data population. While it increases the number of data, it does not give any new information or variation to the machine learning model.\n",
        "\n",
        "For the reason above, Nitesh Chawla, et al. (2002) introduce a new technique to create synthetic data for oversampling purposes in their SMOTE paper.\n",
        "\n",
        "SMOTE works by utilizing a k-nearest neighbour algorithm to create synthetic data. SMOTE first start by choosing random data from the minority class, then k-nearest neighbours from the data are set. Synthetic data would then be made between the random data and the randomly selected k-nearest neighbour. Let me show you the example below.\n",
        "\n",
        "![](2022-01-17-17-39-23.png)\n",
        "\n",
        "The procedure is repeated enough times until the minority class has the same proportion as the majority class.\n",
        "\n",
        "🗨️ QUOTE from: https://towardsdatascience.com/5-smote-techniques-for-oversampling-your-imbalance-data-b8155bdbe2b5"
      ]
    },
    {
      "cell_type": "code",
      "execution_count": 118,
      "metadata": {},
      "outputs": [
        {
          "data": {
            "text/plain": [
              "SMOTE(random_state=42)"
            ]
          },
          "execution_count": 118,
          "metadata": {},
          "output_type": "execute_result"
        }
      ],
      "source": [
        "from imblearn.over_sampling import SMOTE\n",
        "sm = SMOTE(random_state = 42)\n",
        "sm"
      ]
    },
    {
      "cell_type": "markdown",
      "metadata": {},
      "source": [
        "######\n",
        "-----\n",
        "What is random_state parameter?: \n",
        "If you use random_state=some_number, then you can guarantee that the output of Run 1 will be equal to the output of Run 2, i.e. your split will be always the same. It doesn't matter what the actual random_state number is 42, 0, 21, ... The important thing is that everytime you use 42, you will always get the same output the first time you make the split. This is useful if you want reproducible results, for example in the documentation, so that everybody can consistently see the same numbers when they run the examples. In practice I would say, you should set the random_state to some fixed number while you test stuff, but then remove it in production if you really need a random (and not a fixed) split.\n",
        "\n",
        "🗨️ Quote from: https://stackoverflow.com/questions/28064634/random-state-pseudo-random-number-in-scikit-learn"
      ]
    },
    {
      "cell_type": "code",
      "execution_count": 119,
      "metadata": {},
      "outputs": [],
      "source": [
        "## df_res = sm.fit_resample( X , Y )\n",
        "# X, in numerical datasets is, for example, non fraud samples (0)\n",
        "# Y, in the previous dataset, is fraud samples (1)"
      ]
    },
    {
      "cell_type": "markdown",
      "metadata": {},
      "source": [
        "######\n",
        "------\n",
        "Now, we realize that our actual dataset *game-of-thrones.csv* is not the optimum one in order to make an SMOTE sampling. And probably neither for the next reservoir sampling. So, we prefer to change to the *battles.csv* dataset, also GOT related, where is going to have more sense to apply afterwards machine learning prediction, between if the battle is a win (1) or a loss (0)."
      ]
    },
    {
      "cell_type": "code",
      "execution_count": 120,
      "metadata": {},
      "outputs": [
        {
          "data": {
            "text/plain": [
              "Index(['name', 'year', 'battle_number', 'attacker_king', 'defender_king',\n",
              "       'attacker_1', 'attacker_2', 'attacker_3', 'attacker_4', 'defender_1',\n",
              "       'defender_2', 'defender_3', 'defender_4', 'attacker_outcome',\n",
              "       'battle_type', 'major_death', 'major_capture', 'attacker_size',\n",
              "       'defender_size', 'attacker_commander', 'defender_commander', 'summer',\n",
              "       'location', 'region', 'note'],\n",
              "      dtype='object')"
            ]
          },
          "execution_count": 120,
          "metadata": {},
          "output_type": "execute_result"
        }
      ],
      "source": [
        "Battle_df = pd.read_csv('./battles.csv')\n",
        "Battle_df.columns"
      ]
    },
    {
      "cell_type": "code",
      "execution_count": 121,
      "metadata": {},
      "outputs": [
        {
          "data": {
            "text/plain": [
              "win     32\n",
              "loss     5\n",
              "Name: attacker_outcome, dtype: int64"
            ]
          },
          "execution_count": 121,
          "metadata": {},
          "output_type": "execute_result"
        }
      ],
      "source": [
        "#Let's see if our dataset is unbalanced bettween win / loss\n",
        "Battle_df.attacker_outcome.value_counts()"
      ]
    },
    {
      "cell_type": "code",
      "execution_count": 122,
      "metadata": {},
      "outputs": [],
      "source": [
        "# Yes, is definitely unbalanced to win result.\n",
        "# Let's remove now all the columns that we are not interested:\n",
        "Battle_df.drop(columns=['name','year','battle_number','note','location',\n",
        "                        'attacker_2', 'attacker_3', 'attacker_4',\n",
        "                        'defender_2', 'defender_3', 'defender_4'],inplace=True)"
      ]
    },
    {
      "cell_type": "code",
      "execution_count": 137,
      "metadata": {},
      "outputs": [
        {
          "data": {
            "text/plain": [
              "attacker_king         category\n",
              "defender_king         category\n",
              "attacker_1            category\n",
              "defender_1            category\n",
              "attacker_outcome      category\n",
              "battle_type           category\n",
              "major_death            float64\n",
              "major_capture          float64\n",
              "attacker_size          float64\n",
              "defender_size          float64\n",
              "attacker_commander    category\n",
              "defender_commander    category\n",
              "summer                 float64\n",
              "region                category\n",
              "dtype: object"
            ]
          },
          "execution_count": 137,
          "metadata": {},
          "output_type": "execute_result"
        }
      ],
      "source": [
        "#Pre-Processing\n",
        "# Let's fill NaN's with 0 in columns 'attacker_size' and 'defender_size' (is plausible NaN as 0 in these columns)\n",
        "Battle_df.attacker_size.fillna(0,inplace=True); # ; ↔️ to suppress output\n",
        "Battle_df.defender_size.fillna(0,inplace=True); # ; ↔️ to suppress output\n",
        "# Let's categorize the rest of object's type columns\n",
        "Battle_df['attacker_king'] = Battle_df['attacker_king'].astype('category')\n",
        "Battle_df['defender_king'] = Battle_df['defender_king'].astype('category')\n",
        "Battle_df['attacker_1'] = Battle_df['attacker_1'].astype('category')\n",
        "Battle_df['defender_1'] = Battle_df['defender_1'].astype('category')\n",
        "Battle_df['attacker_outcome'] = Battle_df['attacker_outcome'].astype('category')\n",
        "Battle_df['battle_type'] = Battle_df['battle_type'].astype('category')\n",
        "Battle_df['attacker_commander'] = Battle_df['attacker_commander'].astype('category')\n",
        "Battle_df['defender_commander'] = Battle_df['defender_commander'].astype('category')\n",
        "Battle_df['region'] = Battle_df['region'].astype('category')\n",
        "Battle_df.dtypes"
      ]
    },
    {
      "cell_type": "code",
      "execution_count": 132,
      "metadata": {},
      "outputs": [
        {
          "data": {
            "text/html": [
              "<div>\n",
              "<style scoped>\n",
              "    .dataframe tbody tr th:only-of-type {\n",
              "        vertical-align: middle;\n",
              "    }\n",
              "\n",
              "    .dataframe tbody tr th {\n",
              "        vertical-align: top;\n",
              "    }\n",
              "\n",
              "    .dataframe thead th {\n",
              "        text-align: right;\n",
              "    }\n",
              "</style>\n",
              "<table border=\"1\" class=\"dataframe\">\n",
              "  <thead>\n",
              "    <tr style=\"text-align: right;\">\n",
              "      <th></th>\n",
              "      <th>attacker_king</th>\n",
              "      <th>defender_king</th>\n",
              "      <th>attacker_1</th>\n",
              "      <th>defender_1</th>\n",
              "      <th>attacker_outcome</th>\n",
              "      <th>battle_type</th>\n",
              "      <th>major_death</th>\n",
              "      <th>major_capture</th>\n",
              "      <th>attacker_size</th>\n",
              "      <th>defender_size</th>\n",
              "      <th>attacker_commander</th>\n",
              "      <th>defender_commander</th>\n",
              "      <th>summer</th>\n",
              "      <th>region</th>\n",
              "    </tr>\n",
              "  </thead>\n",
              "  <tbody>\n",
              "    <tr>\n",
              "      <th>37</th>\n",
              "      <td>Stannis Baratheon</td>\n",
              "      <td>Joffrey/Tommen Baratheon</td>\n",
              "      <td>Baratheon</td>\n",
              "      <td>Bolton</td>\n",
              "      <td>NaN</td>\n",
              "      <td>NaN</td>\n",
              "      <td>NaN</td>\n",
              "      <td>NaN</td>\n",
              "      <td>5000.0</td>\n",
              "      <td>8000.0</td>\n",
              "      <td>Stannis Baratheon</td>\n",
              "      <td>Roose Bolton</td>\n",
              "      <td>0.0</td>\n",
              "      <td>The North</td>\n",
              "    </tr>\n",
              "  </tbody>\n",
              "</table>\n",
              "</div>"
            ],
            "text/plain": [
              "        attacker_king             defender_king attacker_1 defender_1  \\\n",
              "37  Stannis Baratheon  Joffrey/Tommen Baratheon  Baratheon     Bolton   \n",
              "\n",
              "   attacker_outcome battle_type  major_death  major_capture  attacker_size  \\\n",
              "37              NaN         NaN          NaN            NaN         5000.0   \n",
              "\n",
              "    defender_size attacker_commander defender_commander  summer     region  \n",
              "37         8000.0  Stannis Baratheon       Roose Bolton     0.0  The North  "
            ]
          },
          "execution_count": 132,
          "metadata": {},
          "output_type": "execute_result"
        }
      ],
      "source": [
        "Battle_df.iloc[[37]]"
      ]
    },
    {
      "cell_type": "code",
      "execution_count": 134,
      "metadata": {},
      "outputs": [],
      "source": [
        "# We delete last sample because it includes NaN values where there would not be.\n",
        "Battle_df.drop([37],inplace=True)"
      ]
    },
    {
      "cell_type": "code",
      "execution_count": 135,
      "metadata": {},
      "outputs": [],
      "source": [
        "# Let's prepare X & Y for sampling and posterior model training\n",
        "X = np.array(Battle_df.loc[:, Battle_df.columns != 'attacker_outcome'])\n",
        "Y = np.array(Battle_df.loc[:, Battle_df.columns == 'attacker_outcome']).reshape(-1, 1)"
      ]
    },
    {
      "cell_type": "markdown",
      "metadata": {},
      "source": [
        "Maybe I have to convert text data to numeric? - Let's ask tomorrow to Ricard.\n",
        "https://stackoverflow.com/questions/65280842/smote-could-not-convert-string-to-float"
      ]
    },
    {
      "cell_type": "code",
      "execution_count": 136,
      "metadata": {},
      "outputs": [
        {
          "ename": "ValueError",
          "evalue": "could not convert string to float: 'Joffrey/Tommen Baratheon'",
          "output_type": "error",
          "traceback": [
            "\u001b[1;31m---------------------------------------------------------------------------\u001b[0m",
            "\u001b[1;31mValueError\u001b[0m                                Traceback (most recent call last)",
            "Input \u001b[1;32mIn [136]\u001b[0m, in \u001b[0;36m<module>\u001b[1;34m\u001b[0m\n\u001b[0;32m      1\u001b[0m \u001b[38;5;66;03m# Finally, we can sample with SMOTE!!!\u001b[39;00m\n\u001b[1;32m----> 2\u001b[0m Battle_df_res \u001b[38;5;241m=\u001b[39m \u001b[43msm\u001b[49m\u001b[38;5;241;43m.\u001b[39;49m\u001b[43mfit_resample\u001b[49m\u001b[43m(\u001b[49m\u001b[43m \u001b[49m\u001b[43mX\u001b[49m\u001b[43m \u001b[49m\u001b[43m,\u001b[49m\u001b[43m \u001b[49m\u001b[43mY\u001b[49m\u001b[43m \u001b[49m\u001b[43m)\u001b[49m\n\u001b[0;32m      3\u001b[0m Battle_df_res\n",
            "File \u001b[1;32m~\\anaconda3\\envs\\ITAcademy\\lib\\site-packages\\imblearn\\base.py:77\u001b[0m, in \u001b[0;36mSamplerMixin.fit_resample\u001b[1;34m(self, X, y)\u001b[0m\n\u001b[0;32m     75\u001b[0m check_classification_targets(y)\n\u001b[0;32m     76\u001b[0m arrays_transformer \u001b[38;5;241m=\u001b[39m ArraysTransformer(X, y)\n\u001b[1;32m---> 77\u001b[0m X, y, binarize_y \u001b[38;5;241m=\u001b[39m \u001b[38;5;28;43mself\u001b[39;49m\u001b[38;5;241;43m.\u001b[39;49m\u001b[43m_check_X_y\u001b[49m\u001b[43m(\u001b[49m\u001b[43mX\u001b[49m\u001b[43m,\u001b[49m\u001b[43m \u001b[49m\u001b[43my\u001b[49m\u001b[43m)\u001b[49m\n\u001b[0;32m     79\u001b[0m \u001b[38;5;28mself\u001b[39m\u001b[38;5;241m.\u001b[39msampling_strategy_ \u001b[38;5;241m=\u001b[39m check_sampling_strategy(\n\u001b[0;32m     80\u001b[0m     \u001b[38;5;28mself\u001b[39m\u001b[38;5;241m.\u001b[39msampling_strategy, y, \u001b[38;5;28mself\u001b[39m\u001b[38;5;241m.\u001b[39m_sampling_type\n\u001b[0;32m     81\u001b[0m )\n\u001b[0;32m     83\u001b[0m output \u001b[38;5;241m=\u001b[39m \u001b[38;5;28mself\u001b[39m\u001b[38;5;241m.\u001b[39m_fit_resample(X, y)\n",
            "File \u001b[1;32m~\\anaconda3\\envs\\ITAcademy\\lib\\site-packages\\imblearn\\base.py:132\u001b[0m, in \u001b[0;36mBaseSampler._check_X_y\u001b[1;34m(self, X, y, accept_sparse)\u001b[0m\n\u001b[0;32m    130\u001b[0m     accept_sparse \u001b[38;5;241m=\u001b[39m [\u001b[38;5;124m\"\u001b[39m\u001b[38;5;124mcsr\u001b[39m\u001b[38;5;124m\"\u001b[39m, \u001b[38;5;124m\"\u001b[39m\u001b[38;5;124mcsc\u001b[39m\u001b[38;5;124m\"\u001b[39m]\n\u001b[0;32m    131\u001b[0m y, binarize_y \u001b[38;5;241m=\u001b[39m check_target_type(y, indicate_one_vs_all\u001b[38;5;241m=\u001b[39m\u001b[38;5;28;01mTrue\u001b[39;00m)\n\u001b[1;32m--> 132\u001b[0m X, y \u001b[38;5;241m=\u001b[39m \u001b[38;5;28;43mself\u001b[39;49m\u001b[38;5;241;43m.\u001b[39;49m\u001b[43m_validate_data\u001b[49m\u001b[43m(\u001b[49m\u001b[43mX\u001b[49m\u001b[43m,\u001b[49m\u001b[43m \u001b[49m\u001b[43my\u001b[49m\u001b[43m,\u001b[49m\u001b[43m \u001b[49m\u001b[43mreset\u001b[49m\u001b[38;5;241;43m=\u001b[39;49m\u001b[38;5;28;43;01mTrue\u001b[39;49;00m\u001b[43m,\u001b[49m\u001b[43m \u001b[49m\u001b[43maccept_sparse\u001b[49m\u001b[38;5;241;43m=\u001b[39;49m\u001b[43maccept_sparse\u001b[49m\u001b[43m)\u001b[49m\n\u001b[0;32m    133\u001b[0m \u001b[38;5;28;01mreturn\u001b[39;00m X, y, binarize_y\n",
            "File \u001b[1;32m~\\anaconda3\\envs\\ITAcademy\\lib\\site-packages\\sklearn\\base.py:581\u001b[0m, in \u001b[0;36mBaseEstimator._validate_data\u001b[1;34m(self, X, y, reset, validate_separately, **check_params)\u001b[0m\n\u001b[0;32m    579\u001b[0m         y \u001b[38;5;241m=\u001b[39m check_array(y, \u001b[38;5;241m*\u001b[39m\u001b[38;5;241m*\u001b[39mcheck_y_params)\n\u001b[0;32m    580\u001b[0m     \u001b[38;5;28;01melse\u001b[39;00m:\n\u001b[1;32m--> 581\u001b[0m         X, y \u001b[38;5;241m=\u001b[39m check_X_y(X, y, \u001b[38;5;241m*\u001b[39m\u001b[38;5;241m*\u001b[39mcheck_params)\n\u001b[0;32m    582\u001b[0m     out \u001b[38;5;241m=\u001b[39m X, y\n\u001b[0;32m    584\u001b[0m \u001b[38;5;28;01mif\u001b[39;00m \u001b[38;5;129;01mnot\u001b[39;00m no_val_X \u001b[38;5;129;01mand\u001b[39;00m check_params\u001b[38;5;241m.\u001b[39mget(\u001b[38;5;124m\"\u001b[39m\u001b[38;5;124mensure_2d\u001b[39m\u001b[38;5;124m\"\u001b[39m, \u001b[38;5;28;01mTrue\u001b[39;00m):\n",
            "File \u001b[1;32m~\\anaconda3\\envs\\ITAcademy\\lib\\site-packages\\sklearn\\utils\\validation.py:964\u001b[0m, in \u001b[0;36mcheck_X_y\u001b[1;34m(X, y, accept_sparse, accept_large_sparse, dtype, order, copy, force_all_finite, ensure_2d, allow_nd, multi_output, ensure_min_samples, ensure_min_features, y_numeric, estimator)\u001b[0m\n\u001b[0;32m    961\u001b[0m \u001b[38;5;28;01mif\u001b[39;00m y \u001b[38;5;129;01mis\u001b[39;00m \u001b[38;5;28;01mNone\u001b[39;00m:\n\u001b[0;32m    962\u001b[0m     \u001b[38;5;28;01mraise\u001b[39;00m \u001b[38;5;167;01mValueError\u001b[39;00m(\u001b[38;5;124m\"\u001b[39m\u001b[38;5;124my cannot be None\u001b[39m\u001b[38;5;124m\"\u001b[39m)\n\u001b[1;32m--> 964\u001b[0m X \u001b[38;5;241m=\u001b[39m \u001b[43mcheck_array\u001b[49m\u001b[43m(\u001b[49m\n\u001b[0;32m    965\u001b[0m \u001b[43m    \u001b[49m\u001b[43mX\u001b[49m\u001b[43m,\u001b[49m\n\u001b[0;32m    966\u001b[0m \u001b[43m    \u001b[49m\u001b[43maccept_sparse\u001b[49m\u001b[38;5;241;43m=\u001b[39;49m\u001b[43maccept_sparse\u001b[49m\u001b[43m,\u001b[49m\n\u001b[0;32m    967\u001b[0m \u001b[43m    \u001b[49m\u001b[43maccept_large_sparse\u001b[49m\u001b[38;5;241;43m=\u001b[39;49m\u001b[43maccept_large_sparse\u001b[49m\u001b[43m,\u001b[49m\n\u001b[0;32m    968\u001b[0m \u001b[43m    \u001b[49m\u001b[43mdtype\u001b[49m\u001b[38;5;241;43m=\u001b[39;49m\u001b[43mdtype\u001b[49m\u001b[43m,\u001b[49m\n\u001b[0;32m    969\u001b[0m \u001b[43m    \u001b[49m\u001b[43morder\u001b[49m\u001b[38;5;241;43m=\u001b[39;49m\u001b[43morder\u001b[49m\u001b[43m,\u001b[49m\n\u001b[0;32m    970\u001b[0m \u001b[43m    \u001b[49m\u001b[43mcopy\u001b[49m\u001b[38;5;241;43m=\u001b[39;49m\u001b[43mcopy\u001b[49m\u001b[43m,\u001b[49m\n\u001b[0;32m    971\u001b[0m \u001b[43m    \u001b[49m\u001b[43mforce_all_finite\u001b[49m\u001b[38;5;241;43m=\u001b[39;49m\u001b[43mforce_all_finite\u001b[49m\u001b[43m,\u001b[49m\n\u001b[0;32m    972\u001b[0m \u001b[43m    \u001b[49m\u001b[43mensure_2d\u001b[49m\u001b[38;5;241;43m=\u001b[39;49m\u001b[43mensure_2d\u001b[49m\u001b[43m,\u001b[49m\n\u001b[0;32m    973\u001b[0m \u001b[43m    \u001b[49m\u001b[43mallow_nd\u001b[49m\u001b[38;5;241;43m=\u001b[39;49m\u001b[43mallow_nd\u001b[49m\u001b[43m,\u001b[49m\n\u001b[0;32m    974\u001b[0m \u001b[43m    \u001b[49m\u001b[43mensure_min_samples\u001b[49m\u001b[38;5;241;43m=\u001b[39;49m\u001b[43mensure_min_samples\u001b[49m\u001b[43m,\u001b[49m\n\u001b[0;32m    975\u001b[0m \u001b[43m    \u001b[49m\u001b[43mensure_min_features\u001b[49m\u001b[38;5;241;43m=\u001b[39;49m\u001b[43mensure_min_features\u001b[49m\u001b[43m,\u001b[49m\n\u001b[0;32m    976\u001b[0m \u001b[43m    \u001b[49m\u001b[43mestimator\u001b[49m\u001b[38;5;241;43m=\u001b[39;49m\u001b[43mestimator\u001b[49m\u001b[43m,\u001b[49m\n\u001b[0;32m    977\u001b[0m \u001b[43m\u001b[49m\u001b[43m)\u001b[49m\n\u001b[0;32m    979\u001b[0m y \u001b[38;5;241m=\u001b[39m _check_y(y, multi_output\u001b[38;5;241m=\u001b[39mmulti_output, y_numeric\u001b[38;5;241m=\u001b[39my_numeric)\n\u001b[0;32m    981\u001b[0m check_consistent_length(X, y)\n",
            "File \u001b[1;32m~\\anaconda3\\envs\\ITAcademy\\lib\\site-packages\\sklearn\\utils\\validation.py:746\u001b[0m, in \u001b[0;36mcheck_array\u001b[1;34m(array, accept_sparse, accept_large_sparse, dtype, order, copy, force_all_finite, ensure_2d, allow_nd, ensure_min_samples, ensure_min_features, estimator)\u001b[0m\n\u001b[0;32m    744\u001b[0m         array \u001b[38;5;241m=\u001b[39m array\u001b[38;5;241m.\u001b[39mastype(dtype, casting\u001b[38;5;241m=\u001b[39m\u001b[38;5;124m\"\u001b[39m\u001b[38;5;124munsafe\u001b[39m\u001b[38;5;124m\"\u001b[39m, copy\u001b[38;5;241m=\u001b[39m\u001b[38;5;28;01mFalse\u001b[39;00m)\n\u001b[0;32m    745\u001b[0m     \u001b[38;5;28;01melse\u001b[39;00m:\n\u001b[1;32m--> 746\u001b[0m         array \u001b[38;5;241m=\u001b[39m \u001b[43mnp\u001b[49m\u001b[38;5;241;43m.\u001b[39;49m\u001b[43masarray\u001b[49m\u001b[43m(\u001b[49m\u001b[43marray\u001b[49m\u001b[43m,\u001b[49m\u001b[43m \u001b[49m\u001b[43morder\u001b[49m\u001b[38;5;241;43m=\u001b[39;49m\u001b[43morder\u001b[49m\u001b[43m,\u001b[49m\u001b[43m \u001b[49m\u001b[43mdtype\u001b[49m\u001b[38;5;241;43m=\u001b[39;49m\u001b[43mdtype\u001b[49m\u001b[43m)\u001b[49m\n\u001b[0;32m    747\u001b[0m \u001b[38;5;28;01mexcept\u001b[39;00m ComplexWarning \u001b[38;5;28;01mas\u001b[39;00m complex_warning:\n\u001b[0;32m    748\u001b[0m     \u001b[38;5;28;01mraise\u001b[39;00m \u001b[38;5;167;01mValueError\u001b[39;00m(\n\u001b[0;32m    749\u001b[0m         \u001b[38;5;124m\"\u001b[39m\u001b[38;5;124mComplex data not supported\u001b[39m\u001b[38;5;130;01m\\n\u001b[39;00m\u001b[38;5;132;01m{}\u001b[39;00m\u001b[38;5;130;01m\\n\u001b[39;00m\u001b[38;5;124m\"\u001b[39m\u001b[38;5;241m.\u001b[39mformat(array)\n\u001b[0;32m    750\u001b[0m     ) \u001b[38;5;28;01mfrom\u001b[39;00m \u001b[38;5;21;01mcomplex_warning\u001b[39;00m\n",
            "\u001b[1;31mValueError\u001b[0m: could not convert string to float: 'Joffrey/Tommen Baratheon'"
          ]
        }
      ],
      "source": [
        "# Finally, we can sample with SMOTE!!!\n",
        "Battle_df_res = sm.fit_resample( X , Y )\n",
        "Battle_df_res"
      ]
    }
  ],
  "metadata": {
    "colab": {
      "name": "S05_T01_Sampling_methods.ipynb",
      "provenance": []
    },
    "kernelspec": {
      "display_name": "Python 3",
      "name": "python3"
    },
    "language_info": {
      "codemirror_mode": {
        "name": "ipython",
        "version": 3
      },
      "file_extension": ".py",
      "mimetype": "text/x-python",
      "name": "python",
      "nbconvert_exporter": "python",
      "pygments_lexer": "ipython3",
      "version": "3.9.7"
    }
  },
  "nbformat": 4,
  "nbformat_minor": 0
}
