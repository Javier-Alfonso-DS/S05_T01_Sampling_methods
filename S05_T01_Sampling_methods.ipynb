{
  "nbformat": 4,
  "nbformat_minor": 0,
  "metadata": {
    "colab": {
      "name": "S05_T01_Sampling_methods.ipynb",
      "provenance": [],
      "authorship_tag": "ABX9TyOv0M3eFLc4SrQZORAj3x77",
      "include_colab_link": true
    },
    "kernelspec": {
      "name": "python3",
      "display_name": "Python 3"
    },
    "language_info": {
      "name": "python"
    }
  },
  "cells": [
    {
      "cell_type": "markdown",
      "metadata": {
        "id": "view-in-github",
        "colab_type": "text"
      },
      "source": [
        "<a href=\"https://colab.research.google.com/github/Javier-Alfonso-DS/S05_T01_Sampling_methods/blob/main/S05_T01_Sampling_methods.ipynb\" target=\"_parent\"><img src=\"https://colab.research.google.com/assets/colab-badge.svg\" alt=\"Open In Colab\"/></a>"
      ]
    },
    {
      "cell_type": "markdown",
      "source": [
        "# Sprint 5 Task 1\n",
        "# Statement:\n",
        "\n",
        "Learn how to perform data mining with Python.\n",
        "Level 1\n",
        "- Exercise 1\n",
        "\n",
        "Get a set of sports-themed data that you like. Perform a data sampling generating a simple random sample and a systematic sample.\n",
        "\n",
        "\n",
        "Level 2\n",
        "\n",
        "- Exercise 2\n",
        "\n",
        "Continue with the set of sports-themed data and generate a stratified sample and a sample using SMOTE (Synthetic Minority Oversampling Technique).\n",
        "\n",
        "\n",
        "Level 3\n",
        "\n",
        "- Exercise 3\n",
        "\n",
        "Continue with the set of sports data and generate a sample using the Reservoir sampling method.\n"
      ],
      "metadata": {
        "id": "GnQXMfEWS7Bg"
      }
    }
  ]
}